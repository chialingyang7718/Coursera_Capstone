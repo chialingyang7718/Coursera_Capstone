{
    "nbformat_minor": 1, 
    "cells": [
        {
            "source": "# Report - Hoi! Dumplings und Noodles!", 
            "cell_type": "markdown", 
            "metadata": {
                "collapsed": true
            }
        }, 
        {
            "source": "## 1. Introduction/Business Problem", 
            "cell_type": "markdown", 
            "metadata": {}
        }, 
        {
            "source": "### A Taiwanese recently wants to open an Asian restaurant in Zurich, Switzerland where they sell dumplings and noodles. However, he is not sure where in the city would be a perfect location. The perfect location might be related to nationality of the residents. Moreover, he is also not sure about which target client he should aim at. As for this, the average income of each area might be helpful.", 
            "cell_type": "markdown", 
            "metadata": {}
        }, 
        {
            "source": "The city Zurich is an international city with many immigrants. Although it is a smaller city compared to other international cities, the foreign cultures play an important role. I have been living in Zurich more than three years. Since there are more Asians living in this city in recent years, I think it would be a good idea to open a restaurant here. Therefore, I would like to know which \"Kreis\"(area) would be the best choice and at which price level should I set my menu, i.e. whether if I should open a high-classed restaurant or cheap take-away. ", 
            "cell_type": "markdown", 
            "metadata": {}
        }, 
        {
            "source": "## 2. Data", 
            "cell_type": "markdown", 
            "metadata": {}
        }, 
        {
            "source": "### Mainly: Foursquare location data", 
            "cell_type": "markdown", 
            "metadata": {}
        }, 
        {
            "source": "2.1 Information about competitors: Asian restaurants, even other restaurants in the city...\n2.2 Information about potential clients: I hope to get information about asian residents but if this is not possible, I think the areas closed to asian markets could be also a source of reference. Also, residential areas and areas near workplaces should also be taken into account. Furthermore, the income of residents can also be regarded so that our target group can decide whether they are going to open a low-priced take-away or high-classed fancy restaurants.\n2.3 Information about rental: the less rental the less cost for the restaurant. Therefore, it is important to find an area with low rent.", 
            "cell_type": "markdown", 
            "metadata": {}
        }, 
        {
            "source": "### Kreis Coordinates", 
            "cell_type": "markdown", 
            "metadata": {}
        }, 
        {
            "source": "", 
            "cell_type": "markdown", 
            "metadata": {}
        }, 
        {
            "source": "## 3. Methodology", 
            "cell_type": "markdown", 
            "metadata": {}
        }, 
        {
            "source": "### Exploratory Data Analysis:", 
            "cell_type": "markdown", 
            "metadata": {}
        }, 
        {
            "source": "Clustering the \"Kreis\" into 3 clusters: suitable, moderate, unsuitalbe areas to open the restaurant. The clustering criterium are based on the information of competitiors, residents and rental (parameters). First, we can use the existing asian restaurants as reference (training data). We analyze and compare the relation between their popularity and all other parameters. The most popular restaurant would be given with a score 10. If the score is above 7, the area can be regarded as suitable. Between 4-7 is moderate and below 4 is unsuitable. In this way, we can cluster the \"Kreis\".", 
            "cell_type": "markdown", 
            "metadata": {}
        }, 
        {
            "source": "### 3.1 ", 
            "cell_type": "markdown", 
            "metadata": {}
        }, 
        {
            "source": "## Results", 
            "cell_type": "markdown", 
            "metadata": {}
        }, 
        {
            "source": "## Discussion", 
            "cell_type": "markdown", 
            "metadata": {}
        }, 
        {
            "source": "## Conclusion", 
            "cell_type": "markdown", 
            "metadata": {}
        }, 
        {
            "execution_count": null, 
            "cell_type": "code", 
            "metadata": {}, 
            "outputs": [], 
            "source": ""
        }
    ], 
    "metadata": {
        "kernelspec": {
            "display_name": "Python 3.5", 
            "name": "python3", 
            "language": "python"
        }, 
        "language_info": {
            "mimetype": "text/x-python", 
            "nbconvert_exporter": "python", 
            "version": "3.5.5", 
            "name": "python", 
            "file_extension": ".py", 
            "pygments_lexer": "ipython3", 
            "codemirror_mode": {
                "version": 3, 
                "name": "ipython"
            }
        }
    }, 
    "nbformat": 4
}