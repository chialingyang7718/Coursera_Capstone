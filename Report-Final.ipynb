{
 "cells": [
  {
   "cell_type": "markdown",
   "metadata": {
    "collapsed": true
   },
   "source": [
    "# Report - Dumplings and Noodles in Oslo!"
   ]
  },
  {
   "cell_type": "markdown",
   "metadata": {},
   "source": [
    "### A Taiwanese who owns Asian chain restaurants recently wants to open an Asian restaurant in Oslo where they sell dumplings and noodles. However, he is not sure where in the city would be a perfect location. The perfect location would be somewhere little competitors, more Asian immigrants are and closed to living area."
   ]
  },
  {
   "cell_type": "markdown",
   "metadata": {},
   "source": [
    "The city can be changed as long as it is in a large and international city. The target group could be local immigrants. This tool can provide them an  overall analysis about where in the city is a better place to open the restaurant. With this tool, they can possibly have more potential clients."
   ]
  },
  {
   "cell_type": "code",
   "execution_count": null,
   "metadata": {},
   "outputs": [],
   "source": []
  }
 ],
 "metadata": {
  "kernelspec": {
   "display_name": "Python 3.5",
   "language": "python",
   "name": "python3"
  },
  "language_info": {
   "codemirror_mode": {
    "name": "ipython",
    "version": 3
   },
   "file_extension": ".py",
   "mimetype": "text/x-python",
   "name": "python",
   "nbconvert_exporter": "python",
   "pygments_lexer": "ipython3",
   "version": "3.5.5"
  }
 },
 "nbformat": 4,
 "nbformat_minor": 1
}
