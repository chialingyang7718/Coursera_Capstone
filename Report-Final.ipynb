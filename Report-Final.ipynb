{
    "nbformat_minor": 1, 
    "cells": [
        {
            "source": "# Report - Hoi! Dumplings und Noodles!", 
            "cell_type": "markdown", 
            "metadata": {
                "collapsed": true
            }
        }, 
        {
            "source": "## 1. Introduction/Business Problem", 
            "cell_type": "markdown", 
            "metadata": {}
        }, 
        {
            "source": "### A Taiwanese recently wants to open an Asian restaurant in Zurich, Switzerland where they sell dumplings and noodles. However, he is not sure where in the city would be a perfect location. The perfect location might be related to nationality of the residents. Moreover, he is also not sure about which target client he should aim at. As for this, the average income of each area might be helpful.", 
            "cell_type": "markdown", 
            "metadata": {}
        }, 
        {
            "source": "The city Zurich is an international city with many immigrants. Although it is a smaller city compared to other international cities, the foreign cultures play an important role. I have been living in Zurich more than three years. Since there are more Asians living in this city in recent years, I think it would be a good idea to open a restaurant here. Therefore, I would like to know which \"Kreis\"(area) would be the best choice and at which price level should I set my menu, i.e. whether if I should open a high-classed restaurant or cheap take-away. ", 
            "cell_type": "markdown", 
            "metadata": {}
        }, 
        {
            "source": "## 2. Data", 
            "cell_type": "markdown", 
            "metadata": {}
        }, 
        {
            "source": "### 2.1 Foursquare location data: To get the asian restaurants in each \"Kreis\"", 
            "cell_type": "markdown", 
            "metadata": {}
        }, 
        {
            "source": "From the website: https://latitudelongitude.org/ch/ we can get the longitude and latitude of each \"Kreis\". With this cooridnations, we can use Foursquare API to explore the venues in each \"Kreis\".", 
            "cell_type": "markdown", 
            "metadata": {}
        }, 
        {
            "source": "### 2.2 City of Z\u00fcrich statiscs (Stadt Z\u00fcrich Statistik)", 
            "cell_type": "markdown", 
            "metadata": {}
        }, 
        {
            "source": "From the statistic website of city of Z\u00fcrich: https://www.stadt-zuerich.ch/prd/de/index/statistik.html. Information about residents, mean income of residents and rental at each Kreis can be extracted from there. Their database is very newly updated (2015-2018). Here I will take 2015 for the mean income and the rest of the datasets are from 2018.", 
            "cell_type": "markdown", 
            "metadata": {}
        }, 
        {
            "source": "## 3. Methodology", 
            "cell_type": "markdown", 
            "metadata": {}
        }, 
        {
            "source": "### 3.1 Exploratory Data Analysis:\nI used the given longitude and latitude for each Kreis to explore the venues near by using Foursqaure API. Via the catergory column, the type of venue is shown and we can know if the venue belongs to Asian restaurant. In this way, we can try to find the number of asian restaurants in each Kreis. ", 
            "cell_type": "markdown", 
            "metadata": {}
        }, 
        {
            "source": "### 3.2 Data Visualization:\nIn order to know whether the nationality, income of residents and rental of each Kreis have an effect on the location of asian restaurants, I would like to plot the relationship between each parameter and asina restaurants. In this way, we can observe the influence of each parameter easily.", 
            "cell_type": "markdown", 
            "metadata": {}
        }, 
        {
            "source": "## Results", 
            "cell_type": "markdown", 
            "metadata": {}
        }, 
        {
            "source": "According to my research through internet, it is said that, it is quite recommended to have competition when opening a new business. It is benefitial for the development of our buisness. Moreover, since the transportation system in the city of Z\u00fcrich is so great that we don't need to worry about if the restaurant is too far away from residental areas or working places. Therefore, I think the Kreis where there are more Asin restaurants could be a perfect location for our noodle shop. ", 
            "cell_type": "markdown", 
            "metadata": {}
        }, 
        {
            "source": "## Discussion", 
            "cell_type": "markdown", 
            "metadata": {}
        }, 
        {
            "source": "There is still huge room for improvement in this project. The biggest issue lies in the different sizes of each Kreis. In order to have more accurate results, I recommend to make the radius variable instead of constant.", 
            "cell_type": "markdown", 
            "metadata": {}
        }, 
        {
            "source": "## Conclusion", 
            "cell_type": "markdown", 
            "metadata": {}
        }, 
        {
            "execution_count": null, 
            "cell_type": "code", 
            "metadata": {}, 
            "outputs": [], 
            "source": ""
        }
    ], 
    "metadata": {
        "kernelspec": {
            "display_name": "Python 3.5", 
            "name": "python3", 
            "language": "python"
        }, 
        "language_info": {
            "mimetype": "text/x-python", 
            "nbconvert_exporter": "python", 
            "version": "3.5.5", 
            "name": "python", 
            "file_extension": ".py", 
            "pygments_lexer": "ipython3", 
            "codemirror_mode": {
                "version": 3, 
                "name": "ipython"
            }
        }
    }, 
    "nbformat": 4
}